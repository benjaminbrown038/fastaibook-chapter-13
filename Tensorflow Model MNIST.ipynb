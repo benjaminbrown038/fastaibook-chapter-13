{
 "cells": [
  {
   "cell_type": "code",
   "execution_count": 21,
   "metadata": {},
   "outputs": [],
   "source": [
    "import tensorflow as tf\n",
    "from tensorflow import keras\n",
    "from tensorflow.keras.datasets import mnist\n",
    "import pandas as pd\n",
    "from tensorflow.keras.models import Sequential\n",
    "from tensorflow.keras.layers import Conv2D, MaxPool2D, Dense, Flatten\n",
    "from tensorflow.keras.utils import to_categorical"
   ]
  },
  {
   "cell_type": "code",
   "execution_count": 22,
   "metadata": {},
   "outputs": [],
   "source": [
    "(x_train,y_train),(x_test,y_test) = mnist.load_data()\n",
    "x_train = x_train.reshape(x_train.shape[0], 1, 28, 28)\n",
    "x_test = x_test.reshape(x_test.shape[0], 1, 28, 28)\n",
    "x_train = x_train.astype('float32')\n",
    "x_test = x_test.astype('float32')\n",
    "x_train /= 255\n",
    "x_test /= 255\n",
    "y_train = to_categorical(y_train, 10)\n",
    "y_test = to_categorical(y_test, 10)"
   ]
  },
  {
   "cell_type": "code",
   "execution_count": 39,
   "metadata": {},
   "outputs": [],
   "source": [
    "model = Sequential()\n",
    "model.add(Conv2D(8,kernel_size=(3,3),strides=(1,1),input_shape=(1,28,28), padding = 'same',activation='relu'))\n",
    "model.add(MaxPool2D(pool_size=(2,2),padding='same'))\n",
    "model.add(Conv2D(64,kernel_size=(3,3),strides=(1,1),padding='same',activation='relu'))\n",
    "model.add(MaxPool2D(pool_size=(3,3),padding='same'))\n",
    "model.add(Conv2D(128,kernel_size=(3,3),strides=(1,1),padding='same',activation='relu'))\n",
    "model.add(MaxPool2D(pool_size=(3,3),padding='same'))\n",
    "model.add(Conv2D(10,kernel_size=(3,3),strides=(1,1),padding='same',activation='softmax'))\n",
    "model.add(MaxPool2D(pool_size=(2,2),padding='same'))\n",
    "model.add(Flatten())\n",
    "\n",
    "#model.add(Flatten())\n",
    "#model.add(Dense(10))\n",
    "#model.add(Activation('softmax'))\n",
    "#model.add(Dropout(0.5))\n",
    "#model.add(Dense(3))\n",
    "#model.add(Activation('softmax'))\n",
    "\n",
    "model.compile(loss='categorical_crossentropy',\n",
    "              optimizer=tf.keras.optimizers.RMSprop(\n",
    "                        learning_rate=0.001,\n",
    "                        rho=0.9,\n",
    "                        momentum=0.0,\n",
    "                        epsilon=1e-07,\n",
    "                        centered=False,\n",
    "                        name=\"RMSprop\"),\n",
    "                metrics=['accuracy'])"
   ]
  },
  {
   "cell_type": "code",
   "execution_count": 40,
   "metadata": {},
   "outputs": [
    {
     "name": "stdout",
     "output_type": "stream",
     "text": [
      "Train on 60000 samples, validate on 10000 samples\n",
      "Epoch 1/18\n",
      "60000/60000 - 48s - loss: 2.3028 - accuracy: 0.1042 - val_loss: 2.2961 - val_accuracy: 0.1541\n",
      "Epoch 2/18\n",
      "60000/60000 - 42s - loss: 2.2960 - accuracy: 0.1594 - val_loss: 2.2881 - val_accuracy: 0.1445\n",
      "Epoch 3/18\n",
      "60000/60000 - 42s - loss: 2.2878 - accuracy: 0.1471 - val_loss: 2.2777 - val_accuracy: 0.2627\n",
      "Epoch 4/18\n",
      "60000/60000 - 42s - loss: 2.2773 - accuracy: 0.2708 - val_loss: 2.2602 - val_accuracy: 0.3961\n",
      "Epoch 5/18\n",
      "60000/60000 - 42s - loss: 2.2600 - accuracy: 0.4031 - val_loss: 2.2380 - val_accuracy: 0.4018\n",
      "Epoch 6/18\n",
      "60000/60000 - 45s - loss: 2.2378 - accuracy: 0.4090 - val_loss: 2.2099 - val_accuracy: 0.3984\n",
      "Epoch 7/18\n",
      "60000/60000 - 42s - loss: 2.2098 - accuracy: 0.4069 - val_loss: 2.1766 - val_accuracy: 0.4041\n",
      "Epoch 8/18\n",
      "60000/60000 - 41s - loss: 2.1765 - accuracy: 0.4177 - val_loss: 2.1381 - val_accuracy: 0.4030\n",
      "Epoch 9/18\n",
      "60000/60000 - 42s - loss: 2.1379 - accuracy: 0.4035 - val_loss: 2.0943 - val_accuracy: 0.4643\n",
      "Epoch 10/18\n",
      "60000/60000 - 38s - loss: 2.0944 - accuracy: 0.4732 - val_loss: 2.0511 - val_accuracy: 0.3974\n",
      "Epoch 11/18\n",
      "60000/60000 - 37s - loss: 2.0507 - accuracy: 0.3992 - val_loss: 2.0087 - val_accuracy: 0.4546\n",
      "Epoch 12/18\n",
      "60000/60000 - 41s - loss: 2.0091 - accuracy: 0.4638 - val_loss: 1.9660 - val_accuracy: 0.4271\n",
      "Epoch 13/18\n",
      "60000/60000 - 41s - loss: 1.9656 - accuracy: 0.4259 - val_loss: 1.9150 - val_accuracy: 0.5137\n",
      "Epoch 14/18\n",
      "60000/60000 - 40s - loss: 1.9157 - accuracy: 0.5178 - val_loss: 1.8679 - val_accuracy: 0.5199\n",
      "Epoch 15/18\n",
      "60000/60000 - 38s - loss: 1.8679 - accuracy: 0.5264 - val_loss: 1.8203 - val_accuracy: 0.5500\n",
      "Epoch 16/18\n",
      "60000/60000 - 36s - loss: 1.8210 - accuracy: 0.5517 - val_loss: 1.7797 - val_accuracy: 0.5369\n",
      "Epoch 17/18\n",
      "60000/60000 - 36s - loss: 1.7799 - accuracy: 0.5454 - val_loss: 1.7381 - val_accuracy: 0.5573\n",
      "Epoch 18/18\n",
      "60000/60000 - 35s - loss: 1.7387 - accuracy: 0.5582 - val_loss: 1.7038 - val_accuracy: 0.5440\n"
     ]
    },
    {
     "data": {
      "text/plain": [
       "<tensorflow.python.keras.callbacks.History at 0x6494a8510>"
      ]
     },
     "execution_count": 40,
     "metadata": {},
     "output_type": "execute_result"
    }
   ],
   "source": [
    "model.fit(\n",
    "        x_train,\n",
    "        y_train,\n",
    "        batch_size = 60000,\n",
    "        epochs = 18, \n",
    "        verbose=2,\n",
    "        validation_data =(x_test,y_test),\n",
    "        steps_per_epoch = 1,\n",
    "        validation_steps = 1)"
   ]
  },
  {
   "cell_type": "code",
   "execution_count": null,
   "metadata": {},
   "outputs": [],
   "source": [
    "model = Sequential()\n",
    "\n",
    "model.add(Conv2D(8,kernel_size=3,padding='same',activation='relu'))\n",
    "model.add(MaxPool2D(pool_size=(2,2)))\n",
    "model.add(Conv2D(64,kernel_size=3,padding='same',activation='relu'))\n",
    "model.add(MaxPool2D(pool_size(2,2)))\n",
    "model.add(Conv2D(10,kernel_size=3,padding='same',activation = 'softmax'))\n",
    "model.add(MaxPool2D(pool_size=(2,2)))\n",
    "model.add(Flatten())\n",
    "\n",
    "model.compile(optimizer = tensorflow.keras.optimizers.SGD(lr=.01), \n",
    "              loss = 'categorical_crossentropy',\n",
    "              metrics=['accuracy'])\n",
    "\n",
    "model.fit(x_train,\n",
    "            y_train,\n",
    "         batch_size=60000,\n",
    "         epochs=18,\n",
    "         verbose=2,\n",
    "         validation_data=(x_test,y_test),\n",
    "        steps_per_epoch = 1,\n",
    "          validation_steps=1)"
   ]
  },
  {
   "cell_type": "code",
   "execution_count": null,
   "metadata": {},
   "outputs": [],
   "source": []
  }
 ],
 "metadata": {
  "kernelspec": {
   "display_name": "Python 3.7 (tensorflow)",
   "language": "python",
   "name": "tensorflow"
  },
  "language_info": {
   "codemirror_mode": {
    "name": "ipython",
    "version": 3
   },
   "file_extension": ".py",
   "mimetype": "text/x-python",
   "name": "python",
   "nbconvert_exporter": "python",
   "pygments_lexer": "ipython3",
   "version": "3.7.7"
  }
 },
 "nbformat": 4,
 "nbformat_minor": 2
}
