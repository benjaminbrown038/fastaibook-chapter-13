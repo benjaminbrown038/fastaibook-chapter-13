{
 "cells": [
  {
   "cell_type": "code",
   "execution_count": 1,
   "metadata": {},
   "outputs": [],
   "source": [
    "from fastai.vision.all import *\n",
    "import os \n",
    "import cv2"
   ]
  },
  {
   "cell_type": "code",
   "execution_count": 2,
   "metadata": {},
   "outputs": [],
   "source": [
    "# import data and set file paths \n",
    "path = untar_data(URLs.MNIST_SAMPLE)\n",
    "train = path/'train'\n",
    "threes = (train/'3').ls().sorted()\n",
    "sevens = (train/'7').ls().sorted()"
   ]
  },
  {
   "cell_type": "code",
   "execution_count": 3,
   "metadata": {},
   "outputs": [],
   "source": [
    "# Goals for building a classification model for data \n",
    "# load data and seperate into train, test, valid\n",
    "# initialize weights\n",
    "# matrix multiply weights and training input\n",
    "# test with loss function\n",
    "# take derivate of loss and calc negative gradients of weight\n",
    "# update weights and repeat the prediction and measurement process"
   ]
  },
  {
   "cell_type": "code",
   "execution_count": 27,
   "metadata": {},
   "outputs": [],
   "source": [
    "def load_data(file_name):\n",
    "    training_tensor = [tensor(Image.open(i)) for i in file_name]\n",
    "    training_stack = (torch.stack(training_tensor)).float()\n",
    "    return training_stack\n",
    "    \n",
    "def size(training_stack):\n",
    "    size = ((training_stack.shape)[1]) * (training_stack.shape[2])\n",
    "    return size\n",
    "    \n",
    "def init_weights(size):\n",
    "    weights = (torch.randn(size)).requires_grad_()\n",
    "    return weights\n",
    "\n",
    "def bias(one):\n",
    "    bias = torch.randn(1)\n",
    "    return bias\n",
    "\n",
    "# create a tensor that is compatible with weights matrix \n",
    "def transform_data_for_model(training_stack):\n",
    "    # training data size for me torch.Size([6131, 28, 28])\n",
    "    # multiply rank 2 and 3 and make one rank by itself that represents it \n",
    "    training_stack[1] * training_stack[2] \n",
    "    \n",
    "\n",
    "def matrix_multiply(training_stack):\n",
    "    pred = ((training_stack) @ weights) + bias\n",
    "    return pred\n",
    "    \n",
    "def loss(pred,target):\n",
    "    loss = (pred-target).abs().mean()\n",
    "    return loss \n",
    "\n",
    "def update(lr):    \n",
    "    # weights = initial weights - how much theyre changing * how much we will decide to adjust them \n",
    "    new_weights -= weights.grad * lr    \n",
    "    return new_weights"
   ]
  },
  {
   "cell_type": "code",
   "execution_count": 28,
   "metadata": {},
   "outputs": [],
   "source": [
    "data = (load_data(threes))\n",
    "size = size(data)\n",
    "weights = init_weights(size)\n",
    "bias = bias(1)"
   ]
  },
  {
   "cell_type": "code",
   "execution_count": 41,
   "metadata": {},
   "outputs": [],
   "source": [
    "new = data.view(28*28,-1)"
   ]
  },
  {
   "cell_type": "code",
   "execution_count": null,
   "metadata": {},
   "outputs": [],
   "source": []
  },
  {
   "cell_type": "code",
   "execution_count": null,
   "metadata": {},
   "outputs": [],
   "source": []
  },
  {
   "cell_type": "code",
   "execution_count": null,
   "metadata": {},
   "outputs": [],
   "source": []
  }
 ],
 "metadata": {
  "kernelspec": {
   "display_name": "Python 3",
   "language": "python",
   "name": "python3"
  },
  "language_info": {
   "codemirror_mode": {
    "name": "ipython",
    "version": 3
   },
   "file_extension": ".py",
   "mimetype": "text/x-python",
   "name": "python",
   "nbconvert_exporter": "python",
   "pygments_lexer": "ipython3",
   "version": "3.6.8"
  }
 },
 "nbformat": 4,
 "nbformat_minor": 2
}
