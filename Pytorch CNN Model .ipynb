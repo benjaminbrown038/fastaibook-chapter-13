{
 "cells": [
  {
   "cell_type": "code",
   "execution_count": 6,
   "metadata": {},
   "outputs": [],
   "source": [
    "from fastai.vision.all import * \n",
    "from torch.nn import Conv2d, MaxPool2d, Flatten, functional, Sequential"
   ]
  },
  {
   "cell_type": "code",
   "execution_count": null,
   "metadata": {},
   "outputs": [],
   "source": []
  },
  {
   "cell_type": "code",
   "execution_count": 8,
   "metadata": {},
   "outputs": [],
   "source": [
    "model = Sequential(\n",
    "        nn.Conv2d(1,8,kernel_size=3,padding=1,stride=1),\n",
    "        nn.MaxPool2d(kernel_size = 3, stride = 1),\n",
    "        nn.Conv2d(8,64,kernel_size=3,padding=1,stride=1),\n",
    "        nn.MaxPool2d(kernel_size=3,stride = 1),\n",
    "        nn.Conv2d(64,2,kernel_size=3,stride=1),\n",
    "        nn.MaxPool2d(kernel_size=3,stride=1),\n",
    "        nn.Flatten())"
   ]
  },
  {
   "cell_type": "code",
   "execution_count": null,
   "metadata": {},
   "outputs": [],
   "source": [
    "model.fit "
   ]
  }
 ],
 "metadata": {
  "kernelspec": {
   "display_name": "Python 3",
   "language": "python",
   "name": "python3"
  },
  "language_info": {
   "codemirror_mode": {
    "name": "ipython",
    "version": 3
   },
   "file_extension": ".py",
   "mimetype": "text/x-python",
   "name": "python",
   "nbconvert_exporter": "python",
   "pygments_lexer": "ipython3",
   "version": "3.6.8"
  }
 },
 "nbformat": 4,
 "nbformat_minor": 2
}
