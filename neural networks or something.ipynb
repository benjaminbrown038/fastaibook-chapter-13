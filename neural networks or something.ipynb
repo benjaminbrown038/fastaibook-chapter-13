{
 "cells": [
  {
   "cell_type": "code",
   "execution_count": 143,
   "metadata": {},
   "outputs": [],
   "source": [
    "from fastai.vision.all import *\n",
    "import os \n",
    "import cv2"
   ]
  },
  {
   "cell_type": "code",
   "execution_count": 144,
   "metadata": {},
   "outputs": [],
   "source": [
    "# import data and set file paths \n",
    "path = untar_data(URLs.MNIST_SAMPLE)\n",
    "train = path/'train'\n",
    "threes = (train/'3').ls().sorted()\n",
    "sevens = (train/'7').ls().sorted()\n"
   ]
  },
  {
   "cell_type": "code",
   "execution_count": 145,
   "metadata": {},
   "outputs": [
    {
     "data": {
      "text/plain": [
       "(#6265) [Path('/Users/trey/.fastai/data/mnist_sample/train/7/30224.png'),Path('/Users/trey/.fastai/data/mnist_sample/train/7/27758.png'),Path('/Users/trey/.fastai/data/mnist_sample/train/7/29775.png'),Path('/Users/trey/.fastai/data/mnist_sample/train/7/26446.png'),Path('/Users/trey/.fastai/data/mnist_sample/train/7/15932.png'),Path('/Users/trey/.fastai/data/mnist_sample/train/7/31648.png'),Path('/Users/trey/.fastai/data/mnist_sample/train/7/47906.png'),Path('/Users/trey/.fastai/data/mnist_sample/train/7/58826.png'),Path('/Users/trey/.fastai/data/mnist_sample/train/7/15098.png'),Path('/Users/trey/.fastai/data/mnist_sample/train/7/14386.png')...]"
      ]
     },
     "execution_count": 145,
     "metadata": {},
     "output_type": "execute_result"
    }
   ],
   "source": [
    "(path/'train'/'7').ls()"
   ]
  },
  {
   "cell_type": "code",
   "execution_count": 147,
   "metadata": {},
   "outputs": [],
   "source": [
    "def load_data(file_name):\n",
    "    training_tensor = [tensor(Image.open(i)) for i in file_name]\n",
    "    training_stack = ((torch.stack(training_tensor)).float())\n",
    "    return training_stack\n",
    "\n",
    "# accepts zip type data \n",
    "def training_data(*args):\n",
    "    # concatenate data for training from each feature \n",
    "    # i want to pass an input that accepts tensors \n",
    "    training = (torch.cat(args))\n",
    "    return training\n",
    "\n",
    "    \n",
    "def size(training_stack):\n",
    "    size = ((training_stack.shape)[1]) * (training_stack.shape[2])\n",
    "    return size\n",
    "\n",
    "    \n",
    "def init_weights(size):\n",
    "    weights = (torch.randn(size)).requires_grad_()\n",
    "    return weights\n",
    "\n",
    "def bias(one):\n",
    "    bias = torch.randn(1)\n",
    "    return bias\n",
    "\n",
    "# create a tensor that is compatible with weights matrix \n",
    "def transform_data_for_model(training_stack):\n",
    "    # training data size for me torch.Size([6131, 28, 28])\n",
    "    # multiply rank 2 and 3 and make one rank by itself that represents it \n",
    "    result = training_stack[1] * training_stack[2] \n",
    "    return result \n",
    "\n",
    "def matrix_multiply(training_stack):\n",
    "    new_training_stack = (training_stack).view(-1,784)\n",
    "    pred = ((new_training_stack) @ weights) + bias\n",
    "    return pred\n",
    "\n",
    "def loss(pred,target):\n",
    "    loss = (pred-target).abs().mean()\n",
    "    return loss \n",
    "\n",
    "def update(lr):    \n",
    "    # weights = initial weights - how much theyre changing * how much we will decide to adjust them \n",
    "    new_weights -= weights.grad * lr    \n",
    "    return new_weights\n",
    "\n",
    "#creating a function that returns a vector of labels for three, since I am only doing sevens and threes, the labels can \n",
    "# be represented as ones and zeros.\n",
    "\n",
    "def labeled_data(training,*args):\n",
    "    labels = len(training)*[args]\n",
    "    return labels\n",
    "    \n",
    "def labels_concat(*args):\n",
    "    labels=[]\n",
    "    labeled_data = labels.append(args)\n",
    "    "
   ]
  },
  {
   "cell_type": "code",
   "execution_count": 148,
   "metadata": {},
   "outputs": [],
   "source": [
    "training_threes = (load_data(threes))\n",
    "training_sevens = (load_data(sevens))\n",
    "training = training_data(training_threes,training_sevens)\n",
    "\n",
    "labeled_threes = labeled_data(training_threes,0)\n",
    "labeled_sevens = labeled_data(training_sevens,1)\n",
    "labeled_data = labels_concat(labeled_threes,labeled_sevens)"
   ]
  },
  {
   "cell_type": "code",
   "execution_count": 149,
   "metadata": {},
   "outputs": [],
   "source": [
    "size = size(training_threes)\n",
    "weights = init_weights(size)\n",
    "bias = bias(1)\n",
    "result = matrix_multiply(training)"
   ]
  },
  {
   "cell_type": "code",
   "execution_count": 141,
   "metadata": {},
   "outputs": [],
   "source": []
  },
  {
   "cell_type": "code",
   "execution_count": 142,
   "metadata": {},
   "outputs": [],
   "source": []
  },
  {
   "cell_type": "code",
   "execution_count": null,
   "metadata": {},
   "outputs": [],
   "source": []
  },
  {
   "cell_type": "code",
   "execution_count": null,
   "metadata": {},
   "outputs": [],
   "source": []
  },
  {
   "cell_type": "code",
   "execution_count": null,
   "metadata": {},
   "outputs": [],
   "source": []
  },
  {
   "cell_type": "code",
   "execution_count": null,
   "metadata": {},
   "outputs": [],
   "source": []
  },
  {
   "cell_type": "code",
   "execution_count": null,
   "metadata": {},
   "outputs": [],
   "source": []
  },
  {
   "cell_type": "code",
   "execution_count": null,
   "metadata": {},
   "outputs": [],
   "source": []
  },
  {
   "cell_type": "code",
   "execution_count": null,
   "metadata": {},
   "outputs": [],
   "source": []
  },
  {
   "cell_type": "code",
   "execution_count": null,
   "metadata": {},
   "outputs": [],
   "source": []
  },
  {
   "cell_type": "code",
   "execution_count": null,
   "metadata": {},
   "outputs": [],
   "source": []
  },
  {
   "cell_type": "code",
   "execution_count": null,
   "metadata": {},
   "outputs": [],
   "source": []
  }
 ],
 "metadata": {
  "kernelspec": {
   "display_name": "Python 3",
   "language": "python",
   "name": "python3"
  },
  "language_info": {
   "codemirror_mode": {
    "name": "ipython",
    "version": 3
   },
   "file_extension": ".py",
   "mimetype": "text/x-python",
   "name": "python",
   "nbconvert_exporter": "python",
   "pygments_lexer": "ipython3",
   "version": "3.6.8"
  }
 },
 "nbformat": 4,
 "nbformat_minor": 2
}
